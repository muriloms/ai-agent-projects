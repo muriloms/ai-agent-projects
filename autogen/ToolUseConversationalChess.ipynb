{
 "cells": [
  {
   "cell_type": "markdown",
   "metadata": {},
   "source": [
    "# Tool Use and Conversational Chess"
   ]
  },
  {
   "cell_type": "code",
   "execution_count": 1,
   "metadata": {},
   "outputs": [
    {
     "name": "stderr",
     "output_type": "stream",
     "text": [
      "/home/muriloms/Documents/rep/ai-agent-projects/autogen/venv/lib/python3.11/site-packages/flaml/__init__.py:20: UserWarning: flaml.automl is not available. Please install flaml[automl] to enable AutoML functionalities.\n",
      "  warnings.warn(\"flaml.automl is not available. Please install flaml[automl] to enable AutoML functionalities.\")\n"
     ]
    }
   ],
   "source": [
    "from utils import get_openai_api_key\n",
    "\n",
    "import chess\n",
    "import chess.svg\n",
    "from typing_extensions import Annotated\n",
    "\n",
    "from autogen import ConversableAgent"
   ]
  },
  {
   "cell_type": "code",
   "execution_count": 2,
   "metadata": {},
   "outputs": [],
   "source": [
    "OPEN_AI_KEY = get_openai_api_key()\n",
    "llm_config={\n",
    "    \"model\":\"gpt-4o-mini\"\n",
    "}"
   ]
  },
  {
   "cell_type": "markdown",
   "metadata": {},
   "source": [
    "### Initialize"
   ]
  },
  {
   "cell_type": "code",
   "execution_count": 3,
   "metadata": {},
   "outputs": [],
   "source": [
    "# the chess board\n",
    "board = chess.Board()\n",
    "made_move = False"
   ]
  },
  {
   "cell_type": "markdown",
   "metadata": {},
   "source": [
    "### Define the needed tools"
   ]
  },
  {
   "cell_type": "code",
   "execution_count": 5,
   "metadata": {},
   "outputs": [],
   "source": [
    "# Tool for getting legal moves\n",
    "def get_legal_moves()-> Annotated[str, \"A list of legal moves in UCI format\"]:\n",
    "    return \"Possible moves are: \" + \",\".join(\n",
    "        [str(move) for move in board.legal_moves]\n",
    "    )"
   ]
  },
  {
   "cell_type": "code",
   "execution_count": null,
   "metadata": {},
   "outputs": [],
   "source": [
    "# Tool for making a move on the board\n",
    "def make_move(\n",
    "        move: Annotated[str, \"A move  in UCI format.\"]\n",
    ") -> Annotated[str, \"Result of the move.\"]:\n",
    "\n",
    "    move = chess.Move.from_uci(move)\n",
    "    board.push_uci(str(move))\n",
    "\n",
    "    global made_move\n",
    "    made_move = True\n",
    "\n",
    "    # Display the board\n",
    "    display(\n",
    "        chess.svg.board(\n",
    "            board,\n",
    "            arrows=[\n",
    "                (move.from_square,move.to_square)\n",
    "            ],\n",
    "            fill={\n",
    "                move.from_square:\"gray\"\n",
    "            },\n",
    "            size=200\n",
    "        )\n",
    "    )\n",
    "\n",
    "    # Get the piece name\n",
    "    piece = "
   ]
  }
 ],
 "metadata": {
  "kernelspec": {
   "display_name": "venv",
   "language": "python",
   "name": "python3"
  },
  "language_info": {
   "codemirror_mode": {
    "name": "ipython",
    "version": 3
   },
   "file_extension": ".py",
   "mimetype": "text/x-python",
   "name": "python",
   "nbconvert_exporter": "python",
   "pygments_lexer": "ipython3",
   "version": "3.11.1"
  }
 },
 "nbformat": 4,
 "nbformat_minor": 2
}
