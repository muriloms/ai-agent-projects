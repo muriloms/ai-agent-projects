{
 "cells": [
  {
   "cell_type": "markdown",
   "metadata": {},
   "source": [
    "# Reflection and Blogpost Writing"
   ]
  },
  {
   "cell_type": "code",
   "execution_count": 1,
   "metadata": {},
   "outputs": [
    {
     "name": "stderr",
     "output_type": "stream",
     "text": [
      "/home/muriloms/Documents/rep/ai-agent-projects/autogen/venv/lib/python3.11/site-packages/flaml/__init__.py:20: UserWarning: flaml.automl is not available. Please install flaml[automl] to enable AutoML functionalities.\n",
      "  warnings.warn(\"flaml.automl is not available. Please install flaml[automl] to enable AutoML functionalities.\")\n"
     ]
    }
   ],
   "source": [
    "from utils import get_openai_api_key\n",
    "\n",
    "import autogen"
   ]
  },
  {
   "cell_type": "code",
   "execution_count": 2,
   "metadata": {},
   "outputs": [],
   "source": [
    "OPEN_AI_KEY = get_openai_api_key()\n",
    "llm_config={\n",
    "    \"model\":\"gpt-4o-mini\"\n",
    "}"
   ]
  },
  {
   "cell_type": "markdown",
   "metadata": {},
   "source": [
    "### The task"
   ]
  },
  {
   "cell_type": "code",
   "execution_count": 3,
   "metadata": {},
   "outputs": [],
   "source": [
    "task = '''\n",
    "    Write a concise but engaging blogpost about Dragon Ball Z. \n",
    "    Make sure the blogpost is within 100 words\n",
    "'''"
   ]
  },
  {
   "cell_type": "markdown",
   "metadata": {},
   "source": [
    "### Create a writer agent"
   ]
  },
  {
   "cell_type": "code",
   "execution_count": 4,
   "metadata": {},
   "outputs": [
    {
     "name": "stdout",
     "output_type": "stream",
     "text": [
      "[autogen.oai.client: 01-14 13:51:29] {129} WARNING - The API key specified is not a valid OpenAI format; it won't work with the OpenAI-hosted model.\n"
     ]
    }
   ],
   "source": [
    "writer = autogen.AssistantAgent(\n",
    "    name='Writer',\n",
    "    system_message=\"You are a writer. You write engaging and concise blogpost (with title) on given topics.\"\n",
    "    \"You must polish your writing based on the feedback you receive and give a refined version\"\n",
    "    \"Only return your final work without additional comments.\",\n",
    "    llm_config=llm_config\n",
    ")"
   ]
  },
  {
   "cell_type": "code",
   "execution_count": 5,
   "metadata": {},
   "outputs": [],
   "source": [
    "reply = writer.generate_reply(\n",
    "    messages=[\n",
    "        {\n",
    "            'content':task,\n",
    "            'role':\"user\"\n",
    "        }\n",
    "    ]\n",
    ")"
   ]
  },
  {
   "cell_type": "code",
   "execution_count": 6,
   "metadata": {},
   "outputs": [
    {
     "name": "stdout",
     "output_type": "stream",
     "text": [
      "**The Legacy of Dragon Ball Z: A Timeless Classic**\n",
      "\n",
      "Dragon Ball Z, a cornerstone of anime, continues to captivate audiences with its exhilarating battles and unforgettable characters. Following Goku and his allies, this iconic series expertly blends action, friendship, and the pursuit of strength. Each epic transformation, from Super Saiyan to Ultra Instinct, pushes the boundaries of imagination, while villains like Frieza and Majin Buu keep viewers on the edge of their seats. With its rich lore and inspirational themes, Dragon Ball Z has not only shaped a generation of fans but also remains a powerful influence in the realms of storytelling and animation today.\n"
     ]
    }
   ],
   "source": [
    "print(reply)"
   ]
  },
  {
   "cell_type": "markdown",
   "metadata": {},
   "source": [
    "### Adding reflection\n",
    "Create a critic agent to reflect on the work of the writer agent"
   ]
  },
  {
   "cell_type": "code",
   "execution_count": 7,
   "metadata": {},
   "outputs": [
    {
     "name": "stdout",
     "output_type": "stream",
     "text": [
      "[autogen.oai.client: 01-14 13:56:05] {129} WARNING - The API key specified is not a valid OpenAI format; it won't work with the OpenAI-hosted model.\n"
     ]
    }
   ],
   "source": [
    "critic = autogen.AssistantAgent(\n",
    "    name='Critic',\n",
    "    is_termination_msg=lambda x: x.get('content',\"\").find(\"TERMINATE\") >= 0,\n",
    "    llm_config=llm_config,\n",
    "    system_message=\"You are a critic. You review the work of the writer and provide constructive \"\n",
    "    \"feedback to help improve the quality of the content.\",\n",
    ")"
   ]
  },
  {
   "cell_type": "code",
   "execution_count": 8,
   "metadata": {},
   "outputs": [
    {
     "name": "stdout",
     "output_type": "stream",
     "text": [
      "\u001b[33mCritic\u001b[0m (to Writer):\n",
      "\n",
      "\n",
      "    Write a concise but engaging blogpost about Dragon Ball Z. \n",
      "    Make sure the blogpost is within 100 words\n",
      "\n",
      "\n",
      "--------------------------------------------------------------------------------\n",
      "\u001b[33mWriter\u001b[0m (to Critic):\n",
      "\n",
      "**The Legacy of Dragon Ball Z: A Timeless Classic**\n",
      "\n",
      "Dragon Ball Z, a cornerstone of anime, continues to captivate audiences with its exhilarating battles and unforgettable characters. Following Goku and his allies, this iconic series expertly blends action, friendship, and the pursuit of strength. Each epic transformation, from Super Saiyan to Ultra Instinct, pushes the boundaries of imagination, while villains like Frieza and Majin Buu keep viewers on the edge of their seats. With its rich lore and inspirational themes, Dragon Ball Z has not only shaped a generation of fans but also remains a powerful influence in the realms of storytelling and animation today.\n",
      "\n",
      "--------------------------------------------------------------------------------\n",
      "\u001b[33mCritic\u001b[0m (to Writer):\n",
      "\n",
      "This blog post about Dragon Ball Z captures the essence of the series in a concise manner, highlighting key elements that resonate with fans. However, to enhance its impact and engagement, consider the following feedback:\n",
      "\n",
      "1. **Opening Hook**: While the opening line is effective, you might add a more compelling hook to instantly grab the reader's attention. For example, you could pose a question or include a notable fact about the series.\n",
      "\n",
      "2. **Descriptive Language**: Incorporating more vivid language can help convey the excitement and emotional weight of the series. Instead of \"epic transformation,\" try \"astonishing metamorphoses\" to add flair.\n",
      "\n",
      "3. **Character Depth**: Briefly mentioning a specific character moment or a fan-favorite episode could deepen the connection with readers. \n",
      "\n",
      "4. **Add a Call to Action**: Encourage audience interaction by inviting readers to share their favorite moments or transformations. This can foster community engagement.\n",
      "\n",
      "5. **Concluding Statement**: Your conclusion is solid but could be strengthened by adding a sense of urgency or excitement. Perhaps hint at upcoming developments in the franchise or the enduring legacy it holds among fans of all ages.\n",
      "\n",
      "Here's a revised version considering these suggestions:\n",
      "\n",
      "---\n",
      "\n",
      "**The Legacy of Dragon Ball Z: A Timeless Classic**\n",
      "\n",
      "What makes Dragon Ball Z an enduring phenomenon? This cornerstone of anime continues to enthrall fans with its breathtaking battles and memorable characters. Follow Goku and his friends as they embark on exhilarating adventures, transforming—most astonishingly into Super Saiyan—in their pursuit of strength. Iconic villains like Frieza and Majin Buu keep us on the edge of our seats. With its rich lore and uplifting themes of friendship and perseverance, Dragon Ball Z has shaped a generation. What’s your favorite transformation? Join the conversation and celebrate this powerhouse of storytelling!\n",
      "\n",
      "--- \n",
      "\n",
      "This version maintains the original word count while hopefully fostering a more engaging atmosphere for readers.\n",
      "\n",
      "--------------------------------------------------------------------------------\n",
      "\u001b[33mWriter\u001b[0m (to Critic):\n",
      "\n",
      "**The Legacy of Dragon Ball Z: A Timeless Classic**\n",
      "\n",
      "What makes Dragon Ball Z an enduring phenomenon? This cornerstone of anime continues to enthrall fans with breathtaking battles and unforgettable characters. Follow Goku and his allies as they embark on exhilarating adventures, transforming—most astonishingly into Super Saiyan—in their relentless pursuit of strength. Iconic villains like Frieza and Majin Buu keep viewers on the edge of their seats. With its rich lore and uplifting themes of friendship and perseverance, Dragon Ball Z has shaped generations. What’s your favorite transformation or epic moment? Join the conversation and celebrate this powerhouse of storytelling!\n",
      "\n",
      "--------------------------------------------------------------------------------\n"
     ]
    }
   ],
   "source": [
    "res = critic.initiate_chat(\n",
    "    recipient=writer,\n",
    "    message=task,\n",
    "    max_turns=2,\n",
    "    summary_method=\"last_msg\"\n",
    ")"
   ]
  },
  {
   "cell_type": "markdown",
   "metadata": {},
   "source": [
    "### Nested chat"
   ]
  },
  {
   "cell_type": "code",
   "execution_count": 9,
   "metadata": {},
   "outputs": [
    {
     "name": "stdout",
     "output_type": "stream",
     "text": [
      "[autogen.oai.client: 01-14 14:02:10] {129} WARNING - The API key specified is not a valid OpenAI format; it won't work with the OpenAI-hosted model.\n"
     ]
    }
   ],
   "source": [
    "SEO_reviewer = autogen.AssistantAgent(\n",
    "    name=\"SEO Reviewer\",\n",
    "    llm_config=llm_config,\n",
    "    system_message=\"You are an SEO reviewer, known for \"\n",
    "        \"your ability to optimize content for search engines, \"\n",
    "        \"ensuring that it ranks well and attracts organic traffic. \" \n",
    "        \"Make sure your suggestion is concise (within 3 bullet points), \"\n",
    "        \"concrete and to the point. \"\n",
    "        \"Begin the review by stating your role.\",\n",
    ")"
   ]
  },
  {
   "cell_type": "code",
   "execution_count": 10,
   "metadata": {},
   "outputs": [
    {
     "name": "stdout",
     "output_type": "stream",
     "text": [
      "[autogen.oai.client: 01-14 14:02:28] {129} WARNING - The API key specified is not a valid OpenAI format; it won't work with the OpenAI-hosted model.\n"
     ]
    }
   ],
   "source": [
    "legal_reviewer = autogen.AssistantAgent(\n",
    "    name=\"Legal Reviewer\",\n",
    "    llm_config=llm_config,\n",
    "    system_message=\"You are a legal reviewer, known for \"\n",
    "        \"your ability to ensure that content is legally compliant \"\n",
    "        \"and free from any potential legal issues. \"\n",
    "        \"Make sure your suggestion is concise (within 3 bullet points), \"\n",
    "        \"concrete and to the point. \"\n",
    "        \"Begin the review by stating your role.\",\n",
    ")"
   ]
  },
  {
   "cell_type": "code",
   "execution_count": 11,
   "metadata": {},
   "outputs": [
    {
     "name": "stdout",
     "output_type": "stream",
     "text": [
      "[autogen.oai.client: 01-14 14:02:33] {129} WARNING - The API key specified is not a valid OpenAI format; it won't work with the OpenAI-hosted model.\n"
     ]
    }
   ],
   "source": [
    "ethics_reviewer = autogen.AssistantAgent(\n",
    "    name=\"Ethics Reviewer\",\n",
    "    llm_config=llm_config,\n",
    "    system_message=\"You are an ethics reviewer, known for \"\n",
    "        \"your ability to ensure that content is ethically sound \"\n",
    "        \"and free from any potential ethical issues. \" \n",
    "        \"Make sure your suggestion is concise (within 3 bullet points), \"\n",
    "        \"concrete and to the point. \"\n",
    "        \"Begin the review by stating your role. \",\n",
    ")"
   ]
  },
  {
   "cell_type": "code",
   "execution_count": 12,
   "metadata": {},
   "outputs": [
    {
     "name": "stdout",
     "output_type": "stream",
     "text": [
      "[autogen.oai.client: 01-14 14:03:06] {129} WARNING - The API key specified is not a valid OpenAI format; it won't work with the OpenAI-hosted model.\n"
     ]
    }
   ],
   "source": [
    "meta_reviewer = autogen.AssistantAgent(\n",
    "    name=\"Meta Reviewer\",\n",
    "    llm_config=llm_config,\n",
    "    system_message=\"You are a meta reviewer, you aggragate and review \"\n",
    "    \"the work of other reviewers and give a final suggestion on the content.\",\n",
    ")"
   ]
  },
  {
   "cell_type": "markdown",
   "metadata": {},
   "source": [
    "### Orchestrate the nested chats to solve the task"
   ]
  },
  {
   "cell_type": "code",
   "execution_count": 13,
   "metadata": {},
   "outputs": [],
   "source": [
    "def reflection_message(\n",
    "        recipient,\n",
    "        messages,\n",
    "        sender,\n",
    "        config\n",
    "):\n",
    "    reflec_msg = f'''Review the following content.\n",
    "                \\n\\n{recipient.chat_messages_for_summary(sender)[-1]['content']}\n",
    "                '''"
   ]
  },
  {
   "cell_type": "code",
   "execution_count": 14,
   "metadata": {},
   "outputs": [],
   "source": [
    "review_chats = [\n",
    "    {\n",
    "     \"recipient\": SEO_reviewer, \n",
    "     \"message\": reflection_message, \n",
    "     \"summary_method\": \"reflection_with_llm\",\n",
    "     \"summary_args\": {\"summary_prompt\" : \n",
    "        \"Return review into as JSON object only:\"\n",
    "        \"{'Reviewer': '', 'Review': ''}. Here Reviewer should be your role\",},\n",
    "     \"max_turns\": 1\n",
    "     },\n",
    "    {\n",
    "    \"recipient\": legal_reviewer, \n",
    "    \"message\": reflection_message, \n",
    "     \"summary_method\": \"reflection_with_llm\",\n",
    "     \"summary_args\": {\"summary_prompt\" : \n",
    "        \"Return review into as JSON object only:\"\n",
    "        \"{'Reviewer': '', 'Review': ''}.\",},\n",
    "     \"max_turns\": 1\n",
    "     },\n",
    "    {\n",
    "        \"recipient\": ethics_reviewer, \n",
    "     \"message\": reflection_message, \n",
    "     \"summary_method\": \"reflection_with_llm\",\n",
    "     \"summary_args\": {\"summary_prompt\" : \n",
    "        \"Return review into as JSON object only:\"\n",
    "        \"{'reviewer': '', 'review': ''}\",},\n",
    "     \"max_turns\": 1\n",
    "     },\n",
    "     {\n",
    "      \"recipient\": meta_reviewer, \n",
    "      \"message\": \"Aggregrate feedback from all reviewers and give final suggestions on the writing.\", \n",
    "     \"max_turns\": 1\n",
    "     },\n",
    "]"
   ]
  },
  {
   "cell_type": "code",
   "execution_count": 15,
   "metadata": {},
   "outputs": [],
   "source": [
    "critic.register_nested_chats(\n",
    "    review_chats,\n",
    "    trigger=writer,\n",
    ")"
   ]
  },
  {
   "cell_type": "code",
   "execution_count": 16,
   "metadata": {},
   "outputs": [
    {
     "name": "stdout",
     "output_type": "stream",
     "text": [
      "\u001b[33mCritic\u001b[0m (to Writer):\n",
      "\n",
      "\n",
      "    Write a concise but engaging blogpost about Dragon Ball Z. \n",
      "    Make sure the blogpost is within 100 words\n",
      "\n",
      "\n",
      "--------------------------------------------------------------------------------\n",
      "\u001b[33mWriter\u001b[0m (to Critic):\n",
      "\n",
      "**The Legacy of Dragon Ball Z: A Timeless Classic**\n",
      "\n",
      "Dragon Ball Z, a cornerstone of anime, continues to captivate audiences with its exhilarating battles and unforgettable characters. Following Goku and his allies, this iconic series expertly blends action, friendship, and the pursuit of strength. Each epic transformation, from Super Saiyan to Ultra Instinct, pushes the boundaries of imagination, while villains like Frieza and Majin Buu keep viewers on the edge of their seats. With its rich lore and inspirational themes, Dragon Ball Z has not only shaped a generation of fans but also remains a powerful influence in the realms of storytelling and animation today.\n",
      "\n",
      "--------------------------------------------------------------------------------\n",
      "\u001b[34m\n",
      "********************************************************************************\u001b[0m\n",
      "\u001b[34mStarting a new chat....\u001b[0m\n",
      "\u001b[34m\n",
      "********************************************************************************\u001b[0m\n",
      "\u001b[33mCritic\u001b[0m (to Meta Reviewer):\n",
      "\n",
      "Aggregrate feedback from all reviewers and give final suggestions on the writing.\n",
      "\n",
      "--------------------------------------------------------------------------------\n",
      "\u001b[33mMeta Reviewer\u001b[0m (to Critic):\n",
      "\n",
      "To provide a thorough aggregation of feedback from multiple reviewers, it typically includes identifying common themes, noting conflicting opinions, and assessing the overall consensus. Since I don't have access to specific reviews, I'll outline a general approach to how this can be structured based on hypothetical feedback.\n",
      "\n",
      "### Common Themes from Reviewers:\n",
      "\n",
      "1. **Clarity and Structure**: Many reviewers praised the overall clarity of the writing, noting that the logical flow made it easy to follow the main arguments. However, some suggested improvements in the organizational structure, particularly in transitions between sections.\n",
      "\n",
      "2. **Depth of Analysis**: Some reviewers felt the analysis was insightful and well-researched, while others argued that certain key points could be elaborated upon to enhance understanding. Specifically, they recommended deeper exploration of the implications of the findings presented.\n",
      "\n",
      "3. **Engagement and Style**: Reviewers had mixed opinions about the writing style. A few found it engaging and appropriate for the target audience, but others thought it could be more concise and direct, suggesting that some passages were unnecessarily wordy.\n",
      "\n",
      "4. **Use of Evidence**: Several reviewers appreciated the use of supporting evidence and examples, while others pointed out a need for more comprehensive references in specific sections to strengthen arguments.\n",
      "\n",
      "5. **Conclusion and Implications**: The conclusion received varied feedback—some reviewers commended it as strong and thought-provoking, while others believed it fell short of summarizing the key points effectively.\n",
      "\n",
      "### Conflicting Opinions:\n",
      "\n",
      "- **Language and Tone**: While some reviewers enjoyed the formal yet accessible tone, others found it too informal for the topic at hand.\n",
      "- **Technical Complexity**: A segment of reviewers argued that the writing was suited for an academic audience, while others felt it could alienate general readers due to its complexity.\n",
      "\n",
      "### Final Suggestions:\n",
      "\n",
      "Based on the aggregated feedback, here are some final recommendations for improving the writing:\n",
      "\n",
      "1. **Refine Structure**: Consider revising the organization of the piece to ensure smoother transitions between sections. This will enhance overall flow and readability.\n",
      "\n",
      "2. **Expand on Key Points**: Identify areas where depth is lacking and provide further explanatory detail or context, especially in the analytical segments of the writing.\n",
      "\n",
      "3. **Improve Conciseness**: Aim to reduce wordiness by tightening prose. This can involve eliminating redundant phrases and striving for more direct statements.\n",
      "\n",
      "4. **Enhance Evidence Support**: Ensure that all major claims are adequately supported by references or examples. A comprehensive literature review may be included if applicable.\n",
      "\n",
      "5. **Revisit Conclusion**: Strengthen the conclusion by summarizing the key findings and their implications more effectively. Highlight what the reader should take away and consider further.\n",
      "\n",
      "6. **Adjust Language and Tone**: Depending on the intended audience, determine if the tone should be adjusted to meet expectations—either making it more formal or accessible based on reviewer consensus.\n",
      "\n",
      "By addressing these areas, the writing can be improved to meet the expectations of both the reviewers and the intended audience.\n",
      "\n",
      "--------------------------------------------------------------------------------\n",
      "\u001b[33mCritic\u001b[0m (to Writer):\n",
      "\n",
      "To provide a thorough aggregation of feedback from multiple reviewers, it typically includes identifying common themes, noting conflicting opinions, and assessing the overall consensus. Since I don't have access to specific reviews, I'll outline a general approach to how this can be structured based on hypothetical feedback.\n",
      "\n",
      "### Common Themes from Reviewers:\n",
      "\n",
      "1. **Clarity and Structure**: Many reviewers praised the overall clarity of the writing, noting that the logical flow made it easy to follow the main arguments. However, some suggested improvements in the organizational structure, particularly in transitions between sections.\n",
      "\n",
      "2. **Depth of Analysis**: Some reviewers felt the analysis was insightful and well-researched, while others argued that certain key points could be elaborated upon to enhance understanding. Specifically, they recommended deeper exploration of the implications of the findings presented.\n",
      "\n",
      "3. **Engagement and Style**: Reviewers had mixed opinions about the writing style. A few found it engaging and appropriate for the target audience, but others thought it could be more concise and direct, suggesting that some passages were unnecessarily wordy.\n",
      "\n",
      "4. **Use of Evidence**: Several reviewers appreciated the use of supporting evidence and examples, while others pointed out a need for more comprehensive references in specific sections to strengthen arguments.\n",
      "\n",
      "5. **Conclusion and Implications**: The conclusion received varied feedback—some reviewers commended it as strong and thought-provoking, while others believed it fell short of summarizing the key points effectively.\n",
      "\n",
      "### Conflicting Opinions:\n",
      "\n",
      "- **Language and Tone**: While some reviewers enjoyed the formal yet accessible tone, others found it too informal for the topic at hand.\n",
      "- **Technical Complexity**: A segment of reviewers argued that the writing was suited for an academic audience, while others felt it could alienate general readers due to its complexity.\n",
      "\n",
      "### Final Suggestions:\n",
      "\n",
      "Based on the aggregated feedback, here are some final recommendations for improving the writing:\n",
      "\n",
      "1. **Refine Structure**: Consider revising the organization of the piece to ensure smoother transitions between sections. This will enhance overall flow and readability.\n",
      "\n",
      "2. **Expand on Key Points**: Identify areas where depth is lacking and provide further explanatory detail or context, especially in the analytical segments of the writing.\n",
      "\n",
      "3. **Improve Conciseness**: Aim to reduce wordiness by tightening prose. This can involve eliminating redundant phrases and striving for more direct statements.\n",
      "\n",
      "4. **Enhance Evidence Support**: Ensure that all major claims are adequately supported by references or examples. A comprehensive literature review may be included if applicable.\n",
      "\n",
      "5. **Revisit Conclusion**: Strengthen the conclusion by summarizing the key findings and their implications more effectively. Highlight what the reader should take away and consider further.\n",
      "\n",
      "6. **Adjust Language and Tone**: Depending on the intended audience, determine if the tone should be adjusted to meet expectations—either making it more formal or accessible based on reviewer consensus.\n",
      "\n",
      "By addressing these areas, the writing can be improved to meet the expectations of both the reviewers and the intended audience.\n",
      "\n",
      "--------------------------------------------------------------------------------\n",
      "\u001b[33mWriter\u001b[0m (to Critic):\n",
      "\n",
      "**The Legacy of Dragon Ball Z: A Timeless Classic**\n",
      "\n",
      "Dragon Ball Z is a cornerstone of anime that continues to captivate audiences worldwide. Following Goku and his allies, this iconic series expertly blends action, friendship, and the relentless pursuit of strength. Each epic transformation, from Super Saiyan to Ultra Instinct, pushes creative boundaries, while iconic villains like Frieza and Majin Buu keep fans on the edge of their seats. Its rich lore and inspirational themes have shaped generations, making Dragon Ball Z not just a show, but a cultural phenomenon that influences storytelling and animation today. Dive into the world of Z and experience the adventure!\n",
      "\n",
      "--------------------------------------------------------------------------------\n"
     ]
    }
   ],
   "source": [
    "res = critic.initiate_chat(\n",
    "    recipient=writer,\n",
    "    message=task,\n",
    "    max_turns=2,\n",
    "    summary_method=\"last_msg\"\n",
    ")"
   ]
  },
  {
   "cell_type": "code",
   "execution_count": 17,
   "metadata": {},
   "outputs": [
    {
     "name": "stdout",
     "output_type": "stream",
     "text": [
      "**The Legacy of Dragon Ball Z: A Timeless Classic**\n",
      "\n",
      "Dragon Ball Z is a cornerstone of anime that continues to captivate audiences worldwide. Following Goku and his allies, this iconic series expertly blends action, friendship, and the relentless pursuit of strength. Each epic transformation, from Super Saiyan to Ultra Instinct, pushes creative boundaries, while iconic villains like Frieza and Majin Buu keep fans on the edge of their seats. Its rich lore and inspirational themes have shaped generations, making Dragon Ball Z not just a show, but a cultural phenomenon that influences storytelling and animation today. Dive into the world of Z and experience the adventure!\n"
     ]
    }
   ],
   "source": [
    "print(res.summary)"
   ]
  }
 ],
 "metadata": {
  "kernelspec": {
   "display_name": "venv",
   "language": "python",
   "name": "python3"
  },
  "language_info": {
   "codemirror_mode": {
    "name": "ipython",
    "version": 3
   },
   "file_extension": ".py",
   "mimetype": "text/x-python",
   "name": "python",
   "nbconvert_exporter": "python",
   "pygments_lexer": "ipython3",
   "version": "3.11.1"
  }
 },
 "nbformat": 4,
 "nbformat_minor": 2
}
